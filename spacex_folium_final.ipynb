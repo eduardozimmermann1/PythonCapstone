{
 "cells": [
  {
   "cell_type": "markdown",
   "id": "390cc5f1",
   "metadata": {},
   "source": [
    "# SpaceX Launch Sites Analysis with Folium\n",
    "\n",
    "Este notebook cobre as três tarefas principais:\n",
    "\n",
    "- **Task 1**: Marcar todos os launch sites no mapa\n",
    "- **Task 2**: Marcar os lançamentos (sucesso/falha)\n",
    "- **Task 3**: Calcular distâncias até proximidades (coastline, highway, city)\n",
    "\n",
    "Todos os mapas são interativos e podem ser salvos como HTML."
   ]
  },
  {
   "cell_type": "code",
   "execution_count": null,
   "id": "51875e3d",
   "metadata": {},
   "outputs": [],
   "source": [
    "import folium\n",
    "import pandas as pd\n",
    "from folium.plugins import MarkerCluster, MousePosition\n",
    "from folium.features import DivIcon\n",
    "from math import radians, sin, cos, sqrt, atan2\n",
    "\n",
    "# Função de distância geodésica (Haversine)\n",
    "def calculate_distance(lat1, lon1, lat2, lon2):\n",
    "    R = 6371.0\n",
    "    lat1, lon1, lat2, lon2 = map(radians, [lat1, lon1, lat2, lon2])\n",
    "    dlat, dlon = lat2-lat1, lon2-lon1\n",
    "    a = sin(dlat/2)**2 + cos(lat1)*cos(lat2)*sin(dlon/2)**2\n",
    "    return R * 2 * atan2(sqrt(a), sqrt(1-a))\n"
   ]
  },
  {
   "cell_type": "code",
   "execution_count": null,
   "id": "dacee113",
   "metadata": {},
   "outputs": [],
   "source": [
    "# Carregar dataset original\n",
    "spacex_df = pd.read_csv(\"spacex_launch_geo (1).csv\")\n",
    "spacex_df.head()\n"
   ]
  },
  {
   "cell_type": "markdown",
   "id": "68634493",
   "metadata": {},
   "source": [
    "## Task 1: Mark all launch sites on a map"
   ]
  },
  {
   "cell_type": "code",
   "execution_count": null,
   "id": "2430c1ee",
   "metadata": {},
   "outputs": [],
   "source": [
    "launch_sites_df = spacex_df[['Launch Site','Lat','Long']].drop_duplicates().reset_index(drop=True)\n",
    "\n",
    "site_map = folium.Map(location=[30,-95], zoom_start=4, tiles=\"OpenStreetMap\")\n",
    "\n",
    "for _, row in launch_sites_df.iterrows():\n",
    "    coord = [row['Lat'], row['Long']]\n",
    "    folium.Circle(coord, radius=1000, color='#d35400', fill=True).add_child(\n",
    "        folium.Popup(row['Launch Site'])\n",
    "    ).add_to(site_map)\n",
    "    folium.map.Marker(coord,\n",
    "        icon=DivIcon(icon_size=(20,20), icon_anchor=(0,0),\n",
    "        html=f'<div style=\"font-size: 12px; color:#d35400;\"><b>{row[\"Launch Site\"]}</b></div>')\n",
    "    ).add_to(site_map)\n",
    "\n",
    "site_map.save(\"task1_launch_sites.html\")\n",
    "site_map\n"
   ]
  },
  {
   "cell_type": "markdown",
   "id": "43035642",
   "metadata": {},
   "source": [
    "## Task 2: Mark the success/failed launches"
   ]
  },
  {
   "cell_type": "code",
   "execution_count": null,
   "id": "6081a92e",
   "metadata": {},
   "outputs": [],
   "source": [
    "# Criar coluna de cores\n",
    "spacex_df['marker_color'] = spacex_df['class'].apply(lambda x: 'green' if x==1 else 'red')\n",
    "\n",
    "launch_map = folium.Map(location=[30,-95], zoom_start=4)\n",
    "marker_cluster = MarkerCluster().add_to(launch_map)\n",
    "\n",
    "for _, row in spacex_df.iterrows():\n",
    "    folium.Marker(\n",
    "        location=[row['Lat'], row['Long']],\n",
    "        popup=f\"{row['Launch Site']} | Outcome: {'Success' if row['class']==1 else 'Failure'}\",\n",
    "        icon=folium.Icon(color='white', icon_color=row['marker_color'], icon='rocket', prefix='fa')\n",
    "    ).add_to(marker_cluster)\n",
    "\n",
    "launch_map.save(\"task2_launch_outcomes.html\")\n",
    "launch_map\n"
   ]
  },
  {
   "cell_type": "markdown",
   "id": "6fd2b298",
   "metadata": {},
   "source": [
    "## Task 3: Calculate distances between a launch site and proximities"
   ]
  },
  {
   "cell_type": "code",
   "execution_count": null,
   "id": "904da7de",
   "metadata": {},
   "outputs": [],
   "source": [
    "launch_sites = {\n",
    "    \"CCAFS LC-40\": (28.562302, -80.577356),\n",
    "    \"CCAFS SLC-40\": (28.563197, -80.576820),\n",
    "    \"KSC LC-39A\": (28.573255, -80.646895),\n",
    "    \"VAFB SLC-4E\": (34.632834, -120.610745)\n",
    "}\n",
    "\n",
    "points_of_interest = {\n",
    "    \"Coastline Cape\": (28.56367, -80.57163),\n",
    "    \"Orlando City\": (28.5383, -81.3792),\n",
    "    \"Highway KSC\": (28.572, -80.799),\n",
    "    \"Lompoc City\": (34.6391, -120.4579)\n",
    "}\n",
    "\n",
    "distance_map = folium.Map(location=[30, -95], zoom_start=4)\n",
    "\n",
    "for site_name, (lat, lon) in launch_sites.items():\n",
    "    folium.Marker([lat, lon], popup=site_name,\n",
    "                  icon=folium.Icon(color=\"blue\", icon=\"rocket\", prefix=\"fa\")).add_to(distance_map)\n",
    "    for poi_name, (plat, plon) in points_of_interest.items():\n",
    "        dist = calculate_distance(lat, lon, plat, plon)\n",
    "        folium.Marker([plat, plon], popup=poi_name,\n",
    "                      icon=folium.Icon(color=\"red\", icon=\"info-sign\")).add_to(distance_map)\n",
    "        folium.PolyLine([[lat, lon], [plat, plon]], color=\"green\",\n",
    "                        tooltip=f\"{site_name} → {poi_name}: {dist:.2f} km\").add_to(distance_map)\n",
    "\n",
    "distance_map.save(\"task3_launch_site_distances.html\")\n",
    "distance_map\n"
   ]
  },
  {
   "cell_type": "markdown",
   "id": "a5bbb442",
   "metadata": {},
   "source": [
    "### Observações\n",
    "\n",
    "- Todos os launch sites estão próximos da costa → isso facilita lançamentos seguros sobre o oceano.\n",
    "- Há ferrovias e highways bem próximas de alguns sites, facilitando logística.\n",
    "- Os launch sites mantêm distância de cidades grandes → minimiza riscos em caso de falhas.\n",
    "- Proximidade ao Equador ajuda em eficiência de lançamentos orbitais.\n"
   ]
  }
 ],
 "metadata": {},
 "nbformat": 4,
 "nbformat_minor": 5
}
